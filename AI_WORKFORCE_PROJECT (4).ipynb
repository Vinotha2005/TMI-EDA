{
  "nbformat": 4,
  "nbformat_minor": 0,
  "metadata": {
    "colab": {
      "provenance": []
    },
    "kernelspec": {
      "name": "python3",
      "display_name": "Python 3"
    },
    "language_info": {
      "name": "python"
    }
  },
  "cells": [
    {
      "cell_type": "markdown",
      "source": [
        "**PROJECT-3:TMI (Too Much Information)**"
      ],
      "metadata": {
        "id": "CQhJsVrqPLAE"
      }
    },
    {
      "cell_type": "code",
      "execution_count": 5,
      "metadata": {
        "id": "rLJ2KpBRPCtS"
      },
      "outputs": [],
      "source": [
        "import numpy as np\n",
        "import pandas as pd\n",
        "import matplotlib.pyplot as plt\n",
        "import seaborn as sns\n",
        "\n",
        "df = pd.read_csv(\"/content/customer_data.csv\")"
      ]
    },
    {
      "cell_type": "code",
      "source": [
        "df.head()"
      ],
      "metadata": {
        "colab": {
          "base_uri": "https://localhost:8080/",
          "height": 206
        },
        "id": "AwTk_KBAQPTm",
        "outputId": "8cd4f549-4d00-43ad-e432-f49107b13a2f"
      },
      "execution_count": 6,
      "outputs": [
        {
          "output_type": "execute_result",
          "data": {
            "text/plain": [
              "   customer_id            full_name  age  annual_income  spending_score  \\\n",
              "0         1001         Emily Martin   45          95726              73   \n",
              "1         1002   Patricia Hernandez   22          40492              72   \n",
              "2         1003       Michael Miller   38          36102              78   \n",
              "3         1004  Elizabeth Hernandez   39          80336              31   \n",
              "4         1005      Sophia Williams   51         115314              76   \n",
              "\n",
              "   num_transactions  last_purchase_days     city  \n",
              "0                21                  58    Miami  \n",
              "1                24                  28  Phoenix  \n",
              "2                29                  36  Chicago  \n",
              "3                26                  26  Chicago  \n",
              "4                17                   8  Chicago  "
            ],
            "text/html": [
              "\n",
              "  <div id=\"df-a196ae67-84e0-4b0e-a178-9f7fade1696f\" class=\"colab-df-container\">\n",
              "    <div>\n",
              "<style scoped>\n",
              "    .dataframe tbody tr th:only-of-type {\n",
              "        vertical-align: middle;\n",
              "    }\n",
              "\n",
              "    .dataframe tbody tr th {\n",
              "        vertical-align: top;\n",
              "    }\n",
              "\n",
              "    .dataframe thead th {\n",
              "        text-align: right;\n",
              "    }\n",
              "</style>\n",
              "<table border=\"1\" class=\"dataframe\">\n",
              "  <thead>\n",
              "    <tr style=\"text-align: right;\">\n",
              "      <th></th>\n",
              "      <th>customer_id</th>\n",
              "      <th>full_name</th>\n",
              "      <th>age</th>\n",
              "      <th>annual_income</th>\n",
              "      <th>spending_score</th>\n",
              "      <th>num_transactions</th>\n",
              "      <th>last_purchase_days</th>\n",
              "      <th>city</th>\n",
              "    </tr>\n",
              "  </thead>\n",
              "  <tbody>\n",
              "    <tr>\n",
              "      <th>0</th>\n",
              "      <td>1001</td>\n",
              "      <td>Emily Martin</td>\n",
              "      <td>45</td>\n",
              "      <td>95726</td>\n",
              "      <td>73</td>\n",
              "      <td>21</td>\n",
              "      <td>58</td>\n",
              "      <td>Miami</td>\n",
              "    </tr>\n",
              "    <tr>\n",
              "      <th>1</th>\n",
              "      <td>1002</td>\n",
              "      <td>Patricia Hernandez</td>\n",
              "      <td>22</td>\n",
              "      <td>40492</td>\n",
              "      <td>72</td>\n",
              "      <td>24</td>\n",
              "      <td>28</td>\n",
              "      <td>Phoenix</td>\n",
              "    </tr>\n",
              "    <tr>\n",
              "      <th>2</th>\n",
              "      <td>1003</td>\n",
              "      <td>Michael Miller</td>\n",
              "      <td>38</td>\n",
              "      <td>36102</td>\n",
              "      <td>78</td>\n",
              "      <td>29</td>\n",
              "      <td>36</td>\n",
              "      <td>Chicago</td>\n",
              "    </tr>\n",
              "    <tr>\n",
              "      <th>3</th>\n",
              "      <td>1004</td>\n",
              "      <td>Elizabeth Hernandez</td>\n",
              "      <td>39</td>\n",
              "      <td>80336</td>\n",
              "      <td>31</td>\n",
              "      <td>26</td>\n",
              "      <td>26</td>\n",
              "      <td>Chicago</td>\n",
              "    </tr>\n",
              "    <tr>\n",
              "      <th>4</th>\n",
              "      <td>1005</td>\n",
              "      <td>Sophia Williams</td>\n",
              "      <td>51</td>\n",
              "      <td>115314</td>\n",
              "      <td>76</td>\n",
              "      <td>17</td>\n",
              "      <td>8</td>\n",
              "      <td>Chicago</td>\n",
              "    </tr>\n",
              "  </tbody>\n",
              "</table>\n",
              "</div>\n",
              "    <div class=\"colab-df-buttons\">\n",
              "\n",
              "  <div class=\"colab-df-container\">\n",
              "    <button class=\"colab-df-convert\" onclick=\"convertToInteractive('df-a196ae67-84e0-4b0e-a178-9f7fade1696f')\"\n",
              "            title=\"Convert this dataframe to an interactive table.\"\n",
              "            style=\"display:none;\">\n",
              "\n",
              "  <svg xmlns=\"http://www.w3.org/2000/svg\" height=\"24px\" viewBox=\"0 -960 960 960\">\n",
              "    <path d=\"M120-120v-720h720v720H120Zm60-500h600v-160H180v160Zm220 220h160v-160H400v160Zm0 220h160v-160H400v160ZM180-400h160v-160H180v160Zm440 0h160v-160H620v160ZM180-180h160v-160H180v160Zm440 0h160v-160H620v160Z\"/>\n",
              "  </svg>\n",
              "    </button>\n",
              "\n",
              "  <style>\n",
              "    .colab-df-container {\n",
              "      display:flex;\n",
              "      gap: 12px;\n",
              "    }\n",
              "\n",
              "    .colab-df-convert {\n",
              "      background-color: #E8F0FE;\n",
              "      border: none;\n",
              "      border-radius: 50%;\n",
              "      cursor: pointer;\n",
              "      display: none;\n",
              "      fill: #1967D2;\n",
              "      height: 32px;\n",
              "      padding: 0 0 0 0;\n",
              "      width: 32px;\n",
              "    }\n",
              "\n",
              "    .colab-df-convert:hover {\n",
              "      background-color: #E2EBFA;\n",
              "      box-shadow: 0px 1px 2px rgba(60, 64, 67, 0.3), 0px 1px 3px 1px rgba(60, 64, 67, 0.15);\n",
              "      fill: #174EA6;\n",
              "    }\n",
              "\n",
              "    .colab-df-buttons div {\n",
              "      margin-bottom: 4px;\n",
              "    }\n",
              "\n",
              "    [theme=dark] .colab-df-convert {\n",
              "      background-color: #3B4455;\n",
              "      fill: #D2E3FC;\n",
              "    }\n",
              "\n",
              "    [theme=dark] .colab-df-convert:hover {\n",
              "      background-color: #434B5C;\n",
              "      box-shadow: 0px 1px 3px 1px rgba(0, 0, 0, 0.15);\n",
              "      filter: drop-shadow(0px 1px 2px rgba(0, 0, 0, 0.3));\n",
              "      fill: #FFFFFF;\n",
              "    }\n",
              "  </style>\n",
              "\n",
              "    <script>\n",
              "      const buttonEl =\n",
              "        document.querySelector('#df-a196ae67-84e0-4b0e-a178-9f7fade1696f button.colab-df-convert');\n",
              "      buttonEl.style.display =\n",
              "        google.colab.kernel.accessAllowed ? 'block' : 'none';\n",
              "\n",
              "      async function convertToInteractive(key) {\n",
              "        const element = document.querySelector('#df-a196ae67-84e0-4b0e-a178-9f7fade1696f');\n",
              "        const dataTable =\n",
              "          await google.colab.kernel.invokeFunction('convertToInteractive',\n",
              "                                                    [key], {});\n",
              "        if (!dataTable) return;\n",
              "\n",
              "        const docLinkHtml = 'Like what you see? Visit the ' +\n",
              "          '<a target=\"_blank\" href=https://colab.research.google.com/notebooks/data_table.ipynb>data table notebook</a>'\n",
              "          + ' to learn more about interactive tables.';\n",
              "        element.innerHTML = '';\n",
              "        dataTable['output_type'] = 'display_data';\n",
              "        await google.colab.output.renderOutput(dataTable, element);\n",
              "        const docLink = document.createElement('div');\n",
              "        docLink.innerHTML = docLinkHtml;\n",
              "        element.appendChild(docLink);\n",
              "      }\n",
              "    </script>\n",
              "  </div>\n",
              "\n",
              "\n",
              "    <div id=\"df-d582ddcf-44a9-4cf1-9e20-7c4ee0f01ebf\">\n",
              "      <button class=\"colab-df-quickchart\" onclick=\"quickchart('df-d582ddcf-44a9-4cf1-9e20-7c4ee0f01ebf')\"\n",
              "                title=\"Suggest charts\"\n",
              "                style=\"display:none;\">\n",
              "\n",
              "<svg xmlns=\"http://www.w3.org/2000/svg\" height=\"24px\"viewBox=\"0 0 24 24\"\n",
              "     width=\"24px\">\n",
              "    <g>\n",
              "        <path d=\"M19 3H5c-1.1 0-2 .9-2 2v14c0 1.1.9 2 2 2h14c1.1 0 2-.9 2-2V5c0-1.1-.9-2-2-2zM9 17H7v-7h2v7zm4 0h-2V7h2v10zm4 0h-2v-4h2v4z\"/>\n",
              "    </g>\n",
              "</svg>\n",
              "      </button>\n",
              "\n",
              "<style>\n",
              "  .colab-df-quickchart {\n",
              "      --bg-color: #E8F0FE;\n",
              "      --fill-color: #1967D2;\n",
              "      --hover-bg-color: #E2EBFA;\n",
              "      --hover-fill-color: #174EA6;\n",
              "      --disabled-fill-color: #AAA;\n",
              "      --disabled-bg-color: #DDD;\n",
              "  }\n",
              "\n",
              "  [theme=dark] .colab-df-quickchart {\n",
              "      --bg-color: #3B4455;\n",
              "      --fill-color: #D2E3FC;\n",
              "      --hover-bg-color: #434B5C;\n",
              "      --hover-fill-color: #FFFFFF;\n",
              "      --disabled-bg-color: #3B4455;\n",
              "      --disabled-fill-color: #666;\n",
              "  }\n",
              "\n",
              "  .colab-df-quickchart {\n",
              "    background-color: var(--bg-color);\n",
              "    border: none;\n",
              "    border-radius: 50%;\n",
              "    cursor: pointer;\n",
              "    display: none;\n",
              "    fill: var(--fill-color);\n",
              "    height: 32px;\n",
              "    padding: 0;\n",
              "    width: 32px;\n",
              "  }\n",
              "\n",
              "  .colab-df-quickchart:hover {\n",
              "    background-color: var(--hover-bg-color);\n",
              "    box-shadow: 0 1px 2px rgba(60, 64, 67, 0.3), 0 1px 3px 1px rgba(60, 64, 67, 0.15);\n",
              "    fill: var(--button-hover-fill-color);\n",
              "  }\n",
              "\n",
              "  .colab-df-quickchart-complete:disabled,\n",
              "  .colab-df-quickchart-complete:disabled:hover {\n",
              "    background-color: var(--disabled-bg-color);\n",
              "    fill: var(--disabled-fill-color);\n",
              "    box-shadow: none;\n",
              "  }\n",
              "\n",
              "  .colab-df-spinner {\n",
              "    border: 2px solid var(--fill-color);\n",
              "    border-color: transparent;\n",
              "    border-bottom-color: var(--fill-color);\n",
              "    animation:\n",
              "      spin 1s steps(1) infinite;\n",
              "  }\n",
              "\n",
              "  @keyframes spin {\n",
              "    0% {\n",
              "      border-color: transparent;\n",
              "      border-bottom-color: var(--fill-color);\n",
              "      border-left-color: var(--fill-color);\n",
              "    }\n",
              "    20% {\n",
              "      border-color: transparent;\n",
              "      border-left-color: var(--fill-color);\n",
              "      border-top-color: var(--fill-color);\n",
              "    }\n",
              "    30% {\n",
              "      border-color: transparent;\n",
              "      border-left-color: var(--fill-color);\n",
              "      border-top-color: var(--fill-color);\n",
              "      border-right-color: var(--fill-color);\n",
              "    }\n",
              "    40% {\n",
              "      border-color: transparent;\n",
              "      border-right-color: var(--fill-color);\n",
              "      border-top-color: var(--fill-color);\n",
              "    }\n",
              "    60% {\n",
              "      border-color: transparent;\n",
              "      border-right-color: var(--fill-color);\n",
              "    }\n",
              "    80% {\n",
              "      border-color: transparent;\n",
              "      border-right-color: var(--fill-color);\n",
              "      border-bottom-color: var(--fill-color);\n",
              "    }\n",
              "    90% {\n",
              "      border-color: transparent;\n",
              "      border-bottom-color: var(--fill-color);\n",
              "    }\n",
              "  }\n",
              "</style>\n",
              "\n",
              "      <script>\n",
              "        async function quickchart(key) {\n",
              "          const quickchartButtonEl =\n",
              "            document.querySelector('#' + key + ' button');\n",
              "          quickchartButtonEl.disabled = true;  // To prevent multiple clicks.\n",
              "          quickchartButtonEl.classList.add('colab-df-spinner');\n",
              "          try {\n",
              "            const charts = await google.colab.kernel.invokeFunction(\n",
              "                'suggestCharts', [key], {});\n",
              "          } catch (error) {\n",
              "            console.error('Error during call to suggestCharts:', error);\n",
              "          }\n",
              "          quickchartButtonEl.classList.remove('colab-df-spinner');\n",
              "          quickchartButtonEl.classList.add('colab-df-quickchart-complete');\n",
              "        }\n",
              "        (() => {\n",
              "          let quickchartButtonEl =\n",
              "            document.querySelector('#df-d582ddcf-44a9-4cf1-9e20-7c4ee0f01ebf button');\n",
              "          quickchartButtonEl.style.display =\n",
              "            google.colab.kernel.accessAllowed ? 'block' : 'none';\n",
              "        })();\n",
              "      </script>\n",
              "    </div>\n",
              "\n",
              "    </div>\n",
              "  </div>\n"
            ],
            "application/vnd.google.colaboratory.intrinsic+json": {
              "type": "dataframe",
              "variable_name": "df",
              "summary": "{\n  \"name\": \"df\",\n  \"rows\": 100,\n  \"fields\": [\n    {\n      \"column\": \"customer_id\",\n      \"properties\": {\n        \"dtype\": \"number\",\n        \"std\": 29,\n        \"min\": 1001,\n        \"max\": 1100,\n        \"num_unique_values\": 100,\n        \"samples\": [\n          1084,\n          1054,\n          1071\n        ],\n        \"semantic_type\": \"\",\n        \"description\": \"\"\n      }\n    },\n    {\n      \"column\": \"full_name\",\n      \"properties\": {\n        \"dtype\": \"string\",\n        \"num_unique_values\": 88,\n        \"samples\": [\n          \"Sally Johnson\",\n          \"Emily Martin\",\n          \"Sally Garcia\"\n        ],\n        \"semantic_type\": \"\",\n        \"description\": \"\"\n      }\n    },\n    {\n      \"column\": \"age\",\n      \"properties\": {\n        \"dtype\": \"number\",\n        \"std\": 11,\n        \"min\": 20,\n        \"max\": 60,\n        \"num_unique_values\": 38,\n        \"samples\": [\n          36,\n          53,\n          51\n        ],\n        \"semantic_type\": \"\",\n        \"description\": \"\"\n      }\n    },\n    {\n      \"column\": \"annual_income\",\n      \"properties\": {\n        \"dtype\": \"number\",\n        \"std\": 27847,\n        \"min\": 31150,\n        \"max\": 119912,\n        \"num_unique_values\": 100,\n        \"samples\": [\n          38308,\n          61024,\n          110738\n        ],\n        \"semantic_type\": \"\",\n        \"description\": \"\"\n      }\n    },\n    {\n      \"column\": \"spending_score\",\n      \"properties\": {\n        \"dtype\": \"number\",\n        \"std\": 26,\n        \"min\": 10,\n        \"max\": 100,\n        \"num_unique_values\": 60,\n        \"samples\": [\n          73,\n          85,\n          44\n        ],\n        \"semantic_type\": \"\",\n        \"description\": \"\"\n      }\n    },\n    {\n      \"column\": \"num_transactions\",\n      \"properties\": {\n        \"dtype\": \"number\",\n        \"std\": 9,\n        \"min\": 5,\n        \"max\": 40,\n        \"num_unique_values\": 34,\n        \"samples\": [\n          39,\n          15,\n          10\n        ],\n        \"semantic_type\": \"\",\n        \"description\": \"\"\n      }\n    },\n    {\n      \"column\": \"last_purchase_days\",\n      \"properties\": {\n        \"dtype\": \"number\",\n        \"std\": 17,\n        \"min\": 1,\n        \"max\": 60,\n        \"num_unique_values\": 49,\n        \"samples\": [\n          33,\n          19,\n          4\n        ],\n        \"semantic_type\": \"\",\n        \"description\": \"\"\n      }\n    },\n    {\n      \"column\": \"city\",\n      \"properties\": {\n        \"dtype\": \"category\",\n        \"num_unique_values\": 8,\n        \"samples\": [\n          \"Phoenix\",\n          \"Boston\",\n          \"Miami\"\n        ],\n        \"semantic_type\": \"\",\n        \"description\": \"\"\n      }\n    }\n  ]\n}"
            }
          },
          "metadata": {},
          "execution_count": 6
        }
      ]
    },
    {
      "cell_type": "markdown",
      "source": [
        "**Part A – Data Cleaning**"
      ],
      "metadata": {
        "id": "EBbaP3DcQVIP"
      }
    },
    {
      "cell_type": "code",
      "source": [
        "df = df.drop_duplicates()\n",
        "df = df.fillna(df.mean(numeric_only=True))\n",
        "df = df.fillna(df.mode().iloc[0])\n",
        "df['first_name'] = df['full_name'].str.split().str[0]\n",
        "df['city'] = df['city'].str.upper()\n",
        "print(\"Cleaned DataFrame:\\n\", df.head())"
      ],
      "metadata": {
        "colab": {
          "base_uri": "https://localhost:8080/"
        },
        "id": "xzmHI_nwQUgE",
        "outputId": "5daccf70-8f1b-4306-8f15-65417ea15a37"
      },
      "execution_count": 7,
      "outputs": [
        {
          "output_type": "stream",
          "name": "stdout",
          "text": [
            "Cleaned DataFrame:\n",
            "    customer_id            full_name  age  annual_income  spending_score  \\\n",
            "0         1001         Emily Martin   45          95726              73   \n",
            "1         1002   Patricia Hernandez   22          40492              72   \n",
            "2         1003       Michael Miller   38          36102              78   \n",
            "3         1004  Elizabeth Hernandez   39          80336              31   \n",
            "4         1005      Sophia Williams   51         115314              76   \n",
            "\n",
            "   num_transactions  last_purchase_days     city first_name  \n",
            "0                21                  58    MIAMI      Emily  \n",
            "1                24                  28  PHOENIX   Patricia  \n",
            "2                29                  36  CHICAGO    Michael  \n",
            "3                26                  26  CHICAGO  Elizabeth  \n",
            "4                17                   8  CHICAGO     Sophia  \n"
          ]
        }
      ]
    },
    {
      "cell_type": "markdown",
      "source": [
        "**Part B – EDA**"
      ],
      "metadata": {
        "id": "ihrqAPGqQw9a"
      }
    },
    {
      "cell_type": "code",
      "source": [
        "print(\"Mean:\\n\", df[['age','annual_income','spending_score']].mean())\n",
        "print(\"Median:\\n\", df[['age','annual_income','spending_score']].median())\n",
        "print(\"Mode:\\n\", df[['age','annual_income','spending_score']].mode().iloc[0])\n",
        "print(\"Variance:\\n\", df[['age','annual_income','spending_score']].var())\n",
        "print(\"Std Dev:\\n\", df[['age','annual_income','spending_score']].std())\n",
        "print(\"Range:\\n\", df[['age','annual_income','spending_score']].max() - df[['age','annual_income','spending_score']].min())\n",
        "sns.histplot(df['annual_income'], kde=True); plt.title(\"Annual Income\"); plt.show()\n",
        "sns.histplot(df['spending_score'], kde=True); plt.title(\"Spending Score\"); plt.show()\n",
        "\n",
        "print(\"\\nCity with highest average spending:\",\n",
        "      df.groupby('city')['spending_score'].mean().idxmax())\n",
        "\n"
      ],
      "metadata": {
        "colab": {
          "base_uri": "https://localhost:8080/",
          "height": 1000
        },
        "id": "MpHnkKgMQ2NT",
        "outputId": "976aa090-7c63-4ae8-d136-93040d2f972f"
      },
      "execution_count": 8,
      "outputs": [
        {
          "output_type": "stream",
          "name": "stdout",
          "text": [
            "Mean:\n",
            " age                  42.66\n",
            "annual_income     76076.89\n",
            "spending_score       54.78\n",
            "dtype: float64\n",
            "Median:\n",
            " age                  44.5\n",
            "annual_income     80318.0\n",
            "spending_score       52.0\n",
            "dtype: float64\n",
            "Mode:\n",
            " age                  52.0\n",
            "annual_income     31150.0\n",
            "spending_score       78.0\n",
            "Name: 0, dtype: float64\n",
            "Variance:\n",
            " age               1.407519e+02\n",
            "annual_income     7.754951e+08\n",
            "spending_score    6.998097e+02\n",
            "dtype: float64\n",
            "Std Dev:\n",
            " age                  11.863891\n",
            "annual_income     27847.713515\n",
            "spending_score       26.453916\n",
            "dtype: float64\n",
            "Range:\n",
            " age                  40\n",
            "annual_income     88762\n",
            "spending_score       90\n",
            "dtype: int64\n"
          ]
        },
        {
          "output_type": "display_data",
          "data": {
            "text/plain": [
              "<Figure size 640x480 with 1 Axes>"
            ],
            "image/png": "[encoded data removed]"
          },
          "metadata": {}
        },
        {
          "output_type": "display_data",
          "data": {
            "text/plain": [
              "<Figure size 640x480 with 1 Axes>"
            ],
            "image/png": "[encoded data removed]"
          },
          "metadata": {}
        },
        {
          "output_type": "stream",
          "name": "stdout",
          "text": [
            "\n",
            "City with highest average spending: HOUSTON\n"
          ]
        }
      ]
    },
    {
      "cell_type": "markdown",
      "source": [
        "**Part C – Probability**"
      ],
      "metadata": {
        "id": "yyBk0Q1TSimz"
      }
    },
    {
      "cell_type": "code",
      "source": [
        "p1 = (df['spending_score'] > 70).mean()\n",
        "p2 = (df[df['city']==\"NEW YORK\"]['annual_income'] > 60000).mean()\n",
        "print(\"\\nP(spending > 70) =\", p1)\n",
        "print(\"P(income > 60000 | city=NEW YORK) =\", p2)\n"
      ],
      "metadata": {
        "colab": {
          "base_uri": "https://localhost:8080/"
        },
        "id": "F0WvT5spTZnN",
        "outputId": "bdc754bc-a5f6-461b-e10b-b5d2377b25c1"
      },
      "execution_count": 9,
      "outputs": [
        {
          "output_type": "stream",
          "name": "stdout",
          "text": [
            "\n",
            "P(spending > 70) = 0.35\n",
            "P(income > 60000 | city=NEW YORK) = 0.9\n"
          ]
        }
      ]
    },
    {
      "cell_type": "markdown",
      "source": [
        "**Part D – Linear Algebra**"
      ],
      "metadata": {
        "id": "Jx-iBuX4S-vf"
      }
    },
    {
      "cell_type": "code",
      "source": [
        "age = df['age'].values\n",
        "income = df['annual_income'].values\n",
        "print(\"\\nDot product =\", np.dot(age, income))\n",
        "print(\"Norm of income =\", np.linalg.norm(income))\n",
        "print(\"Normalized income (first 5):\", (income/np.linalg.norm(income))[:5])\n"
      ],
      "metadata": {
        "colab": {
          "base_uri": "https://localhost:8080/"
        },
        "id": "6jckdHNRS-A8",
        "outputId": "78b0483b-ceb6-4179-da16-3456f4674fcc"
      },
      "execution_count": 10,
      "outputs": [
        {
          "output_type": "stream",
          "name": "stdout",
          "text": [
            "\n",
            "Dot product = 320139613\n",
            "Norm of income = 809656.3090960262\n",
            "Normalized income (first 5): [0.11823041 0.05001134 0.04458929 0.09922235 0.14242339]\n"
          ]
        }
      ]
    },
    {
      "cell_type": "markdown",
      "source": [
        "**Part E – Calculus**"
      ],
      "metadata": {
        "id": "sdP1A2heTIBg"
      }
    },
    {
      "cell_type": "code",
      "source": [
        "y = df['spending_score'].values[:10]\n",
        "y_hat = y + np.random.randint(-5,5,10)\n",
        "J = ((y - y_hat)**2).sum()/(2*len(y))\n",
        "grad = (y_hat - y)/len(y)\n",
        "print(\"\\nCost J(w) =\", J)\n",
        "print(\"Gradient =\", grad)"
      ],
      "metadata": {
        "colab": {
          "base_uri": "https://localhost:8080/"
        },
        "id": "H_fpkXFuTazh",
        "outputId": "33b8b58c-7426-40aa-81d6-5c92b99515f4"
      },
      "execution_count": 11,
      "outputs": [
        {
          "output_type": "stream",
          "name": "stdout",
          "text": [
            "\n",
            "Cost J(w) = 2.7\n",
            "Gradient = [-0.5 -0.1 -0.2 -0.3 -0.2 -0.1  0.1  0.1  0.2  0.2]\n"
          ]
        }
      ]
    },
    {
      "cell_type": "markdown",
      "source": [
        "**Part F – Feature Engineering**"
      ],
      "metadata": {
        "id": "EG_d7BAMSro3"
      }
    },
    {
      "cell_type": "code",
      "source": [
        "df['avg_spend_per_transaction'] = df['spending_score']/df['num_transactions']\n",
        "df = pd.get_dummies(df, columns=['city'], drop_first=True)\n",
        "df[['age','annual_income']] = (df[['age','annual_income']] - df[['age','annual_income']].mean())/df[['age','annual_income']].std()\n",
        "print(\"\\nFinal DataFrame:\\n\", df.head())"
      ],
      "metadata": {
        "colab": {
          "base_uri": "https://localhost:8080/"
        },
        "id": "swg5q3Z8Tbd6",
        "outputId": "9d3e1f61-1d6e-495d-ee8a-38c9b73ab6e5"
      },
      "execution_count": 12,
      "outputs": [
        {
          "output_type": "stream",
          "name": "stdout",
          "text": [
            "\n",
            "Final DataFrame:\n",
            "    customer_id            full_name       age  annual_income  spending_score  \\\n",
            "0         1001         Emily Martin  0.197237       0.705592              73   \n",
            "1         1002   Patricia Hernandez -1.741419      -1.277839              72   \n",
            "2         1003       Michael Miller -0.392788      -1.435482              78   \n",
            "3         1004  Elizabeth Hernandez -0.308499       0.152943              31   \n",
            "4         1005      Sophia Williams  0.702973       1.408989              76   \n",
            "\n",
            "   num_transactions  last_purchase_days first_name  avg_spend_per_transaction  \\\n",
            "0                21                  58      Emily                   3.476190   \n",
            "1                24                  28   Patricia                   3.000000   \n",
            "2                29                  36    Michael                   2.689655   \n",
            "3                26                  26  Elizabeth                   1.192308   \n",
            "4                17                   8     Sophia                   4.470588   \n",
            "\n",
            "   city_CHICAGO  city_HOUSTON  city_LOS ANGELES  city_MIAMI  city_NEW YORK  \\\n",
            "0         False         False             False        True          False   \n",
            "1         False         False             False       False          False   \n",
            "2          True         False             False       False          False   \n",
            "3          True         False             False       False          False   \n",
            "4          True         False             False       False          False   \n",
            "\n",
            "   city_PHOENIX  city_SEATTLE  \n",
            "0         False         False  \n",
            "1          True         False  \n",
            "2         False         False  \n",
            "3         False         False  \n",
            "4         False         False  \n"
          ]
        }
      ]
    }
  ]
}